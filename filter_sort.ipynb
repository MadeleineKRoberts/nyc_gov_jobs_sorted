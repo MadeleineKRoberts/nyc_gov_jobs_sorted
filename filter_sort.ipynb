{
 "cells": [
  {
   "cell_type": "code",
   "execution_count": null,
   "metadata": {},
   "outputs": [],
   "source": [
    "import pandas as pd\n",
    "from datetime import datetime, timedelta\n",
    "import requests\n",
    "import io \n",
    "#from transformers import pipeline # Might crash kernal needs lots of disk space and RAM\n",
    "\n",
    "pd.set_option('display.max_columns', None)  # Show all columns\n",
    "pd.set_option('display.max_rows', None)     # Show all rows\n",
    "pd.set_option('display.max_colwidth', None)\n"
   ]
  },
  {
   "cell_type": "code",
   "execution_count": null,
   "metadata": {},
   "outputs": [],
   "source": [
    "# Base URL for NYC GOV Jobs JSON data API\n",
    "base_url = \"https://data.cityofnewyork.us/resource/kpav-sd4t.json\"\n",
    "\n",
    "limit = 1000 \n",
    "offset = 0 \n",
    "all_data = []\n",
    "\n",
    "\n",
    "while True:\n",
    "   \n",
    "    params = {\n",
    "        \"$limit\": limit,\n",
    "        \"$offset\": offset\n",
    "    }\n",
    "    \n",
    "    response = requests.get(base_url, params=params)\n",
    "    \n",
    "    # If the request was successful, process the data\n",
    "    if response.status_code == 200:\n",
    "       \n",
    "        chunk_data = response.json()\n",
    "        \n",
    "        if not chunk_data:\n",
    "            break\n",
    "        \n",
    "        # Append the current chunk to the list\n",
    "        all_data.extend(chunk_data)\n",
    "        \n",
    "        # Update the offset for the next request\n",
    "        offset += limit\n",
    "    else:\n",
    "        print(f\"Failed to retrieve data: {response.status_code}\")\n",
    "        break\n",
    "\n",
    "# Convert the list of dictionaries to a DataFrame\n",
    "full_df = pd.DataFrame(all_data)\n",
    "\n",
    "# Drop rows where 'Job ID' is NaN\n",
    "full_df = full_df.dropna(subset=['job_id'])\n",
    "\n",
    "# Show the first few rows of the cleaned data\n",
    "print(full_df.head())\n"
   ]
  },
  {
   "cell_type": "code",
   "execution_count": null,
   "metadata": {},
   "outputs": [],
   "source": [
    "full_df.columns"
   ]
  },
  {
   "cell_type": "code",
   "execution_count": null,
   "metadata": {},
   "outputs": [],
   "source": [
    "# Display the first few rows of the DataFrame\n",
    "#print(.head())"
   ]
  },
  {
   "cell_type": "code",
   "execution_count": null,
   "metadata": {},
   "outputs": [],
   "source": [
    "# only external postings\n",
    "df = full_df\n",
    "df = df[df['posting_type'] == 'External']\n",
    "\n",
    "# Filter by desired poistions\n",
    "titles_to_match = ['Data Scientist', 'Software Engineer', 'Data Analyst', 'Software Developer', 'Data', 'Software']\n",
    "df = df[df['business_title'].str.contains('|'.join(titles_to_match), case=False, na=False)]\n",
    "\n",
    "#df.head()\n"
   ]
  },
  {
   "cell_type": "code",
   "execution_count": null,
   "metadata": {},
   "outputs": [],
   "source": [
    "df.sort_values(by = 'posting_date', ascending=False, inplace=True)\n",
    "\n",
    "df['posting_date'] = pd.to_datetime(df['posting_date'])\n",
    "df['last_updated'] = pd.to_datetime(df['posting_updated'], errors='coerce')\n",
    "\n",
    "# Get the date 4 months ago from today\n",
    "four_months_ago = datetime.now() - timedelta(days=4*30)\n",
    "\n",
    "# Filter the rows\n",
    "df = df[~((df['posting_date'] <= four_months_ago) & df['last_updated'].isna())]\n"
   ]
  },
  {
   "cell_type": "code",
   "execution_count": null,
   "metadata": {},
   "outputs": [],
   "source": [
    "summarizer = pipeline(\"summarization\", model=\"facebook/bart-large-cnn\")\n",
    "df['Job Description Summarized'] = summarizer(df['Job Description'], max_length=130, min_length=30)\n",
    "\n",
    "#df['Job Description Summarized'].head(5)"
   ]
  },
  {
   "cell_type": "code",
   "execution_count": null,
   "metadata": {},
   "outputs": [],
   "source": [
    "cols = ['Job ID', '# Of Positions', 'Business Title', 'Career Level', 'Division/Work Unit', \n",
    "                  'Job Description Summarized', 'Minimum Qual Requirements', 'Preferred Skills', \n",
    "                  'Additional Information', 'To Apply', 'Posting Date', 'Post Until', 'Posting Updated'\n",
    "]\n",
    "\n",
    "cols_more_info = ['job_id', 'number_of_positions', 'business_title',  'job_category',\n",
    "'full_time_part_time_indicator', 'career_level', 'salary_range_from',\n",
    "'salary_range_to', 'division_work_unit', 'job_description', \n",
    "'minimum_qual_requirements', 'preferred_skills', 'additional_information', 'to_apply',\n",
    "'posting_date', 'post_until', 'posting_updated'\n",
    "]\n",
    "\n",
    "# Display the first 50 rows for the specified columns\n",
    "df[cols_more_info].head(50)\n"
   ]
  }
 ],
 "metadata": {
  "kernelspec": {
   "display_name": "base",
   "language": "python",
   "name": "python3"
  },
  "language_info": {
   "codemirror_mode": {
    "name": "ipython",
    "version": 3
   },
   "file_extension": ".py",
   "mimetype": "text/x-python",
   "name": "python",
   "nbconvert_exporter": "python",
   "pygments_lexer": "ipython3",
   "version": "3.10.13"
  }
 },
 "nbformat": 4,
 "nbformat_minor": 2
}
